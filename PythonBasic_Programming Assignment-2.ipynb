{
 "cells": [
  {
   "cell_type": "markdown",
   "metadata": {},
   "source": [
    "## Python Basic Programming Assignment - 2"
   ]
  },
  {
   "cell_type": "markdown",
   "metadata": {},
   "source": [
    "### 1."
   ]
  },
  {
   "cell_type": "code",
   "execution_count": 2,
   "metadata": {},
   "outputs": [
    {
     "name": "stdout",
     "output_type": "stream",
     "text": [
      "Enter kilometers to convert: 50\n",
      "50.0 kilometers is equal to 31.068550000000002 miles.\n"
     ]
    }
   ],
   "source": [
    "km = float(input(\"Enter kilometers to convert: \"))\n",
    "\n",
    "# This is the conversion factor. 1 km = 0.621371 miles\n",
    "a = 0.621371 \n",
    "\n",
    "miles = km * a\n",
    "\n",
    "print(f'{km} kilometers is equal to {miles} miles.')"
   ]
  },
  {
   "cell_type": "markdown",
   "metadata": {},
   "source": [
    "### 2."
   ]
  },
  {
   "cell_type": "code",
   "execution_count": 3,
   "metadata": {},
   "outputs": [
    {
     "name": "stdout",
     "output_type": "stream",
     "text": [
      "Enter temperature in Celsius to convert: 50\n",
      "50.0 C is equal to 122.0 F.\n"
     ]
    }
   ],
   "source": [
    "celsius = float(input(\"Enter temperature in Celsius to convert: \"))\n",
    "\n",
    "\n",
    "fahrenheit = (celsius * 9/5) + 32\n",
    "\n",
    "print(f'{celsius} C is equal to {fahrenheit} F.')"
   ]
  },
  {
   "cell_type": "markdown",
   "metadata": {},
   "source": [
    "### 3."
   ]
  },
  {
   "cell_type": "code",
   "execution_count": 9,
   "metadata": {},
   "outputs": [
    {
     "name": "stdout",
     "output_type": "stream",
     "text": [
      "Enter year: 2021\n",
      "Enter month: 04\n",
      "     April 2021\n",
      "Mo Tu We Th Fr Sa Su\n",
      "          1  2  3  4\n",
      " 5  6  7  8  9 10 11\n",
      "12 13 14 15 16 17 18\n",
      "19 20 21 22 23 24 25\n",
      "26 27 28 29 30\n",
      "\n"
     ]
    }
   ],
   "source": [
    "import calendar\n",
    "\n",
    "yy = int(input(\"Enter year: \"))\n",
    "mm = int(input(\"Enter month: \"))\n",
    "\n",
    "print(calendar.month(yy,mm))"
   ]
  },
  {
   "cell_type": "markdown",
   "metadata": {},
   "source": [
    "### 4.\n"
   ]
  },
  {
   "cell_type": "code",
   "execution_count": 4,
   "metadata": {},
   "outputs": [
    {
     "name": "stdout",
     "output_type": "stream",
     "text": [
      "Enter first coefficient: 2\n",
      "Enter second coefficient: 3\n",
      "Enter third coefficient: 4\n",
      "The solutions are: \n",
      "(-0.75+1.1989578808281798j)\n",
      "(-0.75-1.1989578808281798j)\n"
     ]
    }
   ],
   "source": [
    "import cmath\n",
    "\n",
    "a = float(input(\"Enter first coefficient: \"))\n",
    "b = float(input(\"Enter second coefficient: \"))\n",
    "c = float(input(\"Enter third coefficient: \"))\n",
    "\n",
    "#Discriminant formula\n",
    "discriminant = (b**2)-(4*a*c)\n",
    "\n",
    "#two solutions\n",
    "sol1 = (- b + cmath.sqrt(discriminant))/(2*a)\n",
    "sol2 = (- b - cmath.sqrt(discriminant))/(2*a)\n",
    "\n",
    "print(\"The solutions are: \")\n",
    "print(sol1)\n",
    "print(sol2)\n",
    "\n"
   ]
  },
  {
   "cell_type": "markdown",
   "metadata": {},
   "source": [
    "### 5."
   ]
  },
  {
   "cell_type": "code",
   "execution_count": 12,
   "metadata": {},
   "outputs": [
    {
     "name": "stdout",
     "output_type": "stream",
     "text": [
      "Enter value of x: 34\n",
      "Enter value of y: 45\n",
      "Value of x is 45\n",
      "Value of y is 34\n"
     ]
    }
   ],
   "source": [
    "x = input(\"Enter value of x: \")\n",
    "y = input(\"Enter value of y: \")\n",
    "\n",
    "x,y = y,x\n",
    "\n",
    "print(\"Value of x is\",x )\n",
    "print(\"Value of y is\",y)"
   ]
  },
  {
   "cell_type": "code",
   "execution_count": null,
   "metadata": {},
   "outputs": [],
   "source": []
  }
 ],
 "metadata": {
  "kernelspec": {
   "display_name": "Python 3",
   "language": "python",
   "name": "python3"
  },
  "language_info": {
   "codemirror_mode": {
    "name": "ipython",
    "version": 3
   },
   "file_extension": ".py",
   "mimetype": "text/x-python",
   "name": "python",
   "nbconvert_exporter": "python",
   "pygments_lexer": "ipython3",
   "version": "3.8.3"
  }
 },
 "nbformat": 4,
 "nbformat_minor": 4
}
